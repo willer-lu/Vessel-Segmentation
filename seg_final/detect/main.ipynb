{
 "cells": [
  {
   "cell_type": "code",
   "execution_count": 12,
   "metadata": {},
   "outputs": [],
   "source": [
    "import os\n",
    "import torch\n",
    "from PIL import Image\n",
    "from unetplus import Unet_plus_plus\n",
    "from torchvision import transforms\n",
    "import cv2\n",
    "import numpy as np\n",
    "model_path = '../files/detect.pth'\n",
    "device = 'cuda:0'\n",
    "model = Unet_plus_plus().to(device)   # Unet++\n",
    "model.load_state_dict(torch.load(model_path, map_location='cuda:0'))\n",
    "model.eval()\n",
    "\n",
    "root = \"../../test/images\"\n",
    "root = \"../test/images\"\n",
    "img_name_list = os.listdir(root)"
   ]
  },
  {
   "cell_type": "code",
   "execution_count": 22,
   "metadata": {},
   "outputs": [
    {
     "name": "stdout",
     "output_type": "stream",
     "text": [
      "bool (584, 565)\n"
     ]
    },
    {
     "data": {
      "text/plain": [
       "((565, 584), PIL.Image.Image)"
      ]
     },
     "execution_count": 22,
     "metadata": {},
     "output_type": "execute_result"
    }
   ],
   "source": [
    "img_name = img_name_list[0]\n",
    "img_path = os.path.join(root, img_name)\n",
    "\n",
    "image = cv2.imread(img_path, cv2.IMREAD_COLOR)\n",
    "image = cv2.cvtColor(image,cv2.COLOR_BGR2RGB)\n",
    "trans = transforms.Compose([\n",
    "        transforms.ToTensor(),\n",
    "        transforms.Resize((512,512)),\n",
    "    ])\n",
    "img = trans(image)\n",
    "\n",
    "img = img.unsqueeze(0)\n",
    "img = img.to(device)\n",
    "\n",
    "with torch.no_grad():\n",
    "    seg_img = model(img)\n",
    "\n",
    "seg_img = seg_img.squeeze(0)\n",
    "seg_img = transforms.Resize((584,565))(seg_img)\n",
    "\n",
    "seg_img = seg_img.cpu().numpy()[0]\n",
    "\n",
    "seg_img = seg_img > 0.1\n",
    "# seg_img = seg_img*255\n",
    "print(seg_img.dtype, seg_img.shape)\n",
    "pil_img = Image.fromarray((seg_img * 255).astype(np.uint8))\n",
    "\n",
    "pil_img.size, type(pil_img)"
   ]
  },
  {
   "cell_type": "code",
   "execution_count": 24,
   "metadata": {},
   "outputs": [
    {
     "data": {
      "text/plain": [
       "((565, 584), PIL.Image.Image)"
      ]
     },
     "execution_count": 24,
     "metadata": {},
     "output_type": "execute_result"
    }
   ],
   "source": [
    "\n",
    "pil_img = pil_img.convert(\"1\")\n",
    "\n",
    "pil_img.size, type(pil_img)"
   ]
  },
  {
   "cell_type": "code",
   "execution_count": 25,
   "metadata": {},
   "outputs": [],
   "source": [
    "pil_img.show()"
   ]
  }
 ],
 "metadata": {
  "interpreter": {
   "hash": "f7d82638622426b021dfc253413adf70fd99d0df92c45baee7527c3c637ec7d6"
  },
  "kernelspec": {
   "display_name": "Python 3.8.8 ('base')",
   "language": "python",
   "name": "python3"
  },
  "language_info": {
   "codemirror_mode": {
    "name": "ipython",
    "version": 3
   },
   "file_extension": ".py",
   "mimetype": "text/x-python",
   "name": "python",
   "nbconvert_exporter": "python",
   "pygments_lexer": "ipython3",
   "version": "3.8.8"
  },
  "orig_nbformat": 4
 },
 "nbformat": 4,
 "nbformat_minor": 2
}
